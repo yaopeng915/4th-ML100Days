{
 "cells": [
  {
   "cell_type": "markdown",
   "metadata": {},
   "source": [
    "# 作業重點:\n",
    "\n",
    "(1)以, Adam, 為例, 調整 batch_size, epoch , 觀察accurancy, loss 的變化\n",
    "\n",
    "(2)以同一模型, 分別驗證 SGD, Adam, Rmsprop 的 accurancy"
   ]
  },
  {
   "cell_type": "markdown",
   "metadata": {},
   "source": [
    "# 作業目標:\n",
    "    \n",
    "    取得各種優化器的運算結果"
   ]
  },
  {
   "cell_type": "code",
   "execution_count": 1,
   "metadata": {},
   "outputs": [
    {
     "name": "stderr",
     "output_type": "stream",
     "text": [
      "Using TensorFlow backend.\n"
     ]
    }
   ],
   "source": [
    "from __future__ import print_function\n",
    "import keras\n",
    "from keras.datasets import cifar10\n",
    "from keras.preprocessing.image import ImageDataGenerator\n",
    "from keras.models import Sequential\n",
    "from keras.layers import Dense, Dropout, Activation, Flatten\n",
    "from keras.layers import Conv2D, MaxPooling2D\n",
    "import os\n",
    "from keras import optimizers\n"
   ]
  },
  {
   "cell_type": "code",
   "execution_count": 3,
   "metadata": {},
   "outputs": [],
   "source": [
    "#Blas GEMM launch failed , 避免動態分配GPU / CPU, 出現問題\n",
    "import tensorflow as tf\n",
    "#gpu_options = tf.GPUOptions(per_process_gpu_memory_fraction=0.333)\n",
    "#sess = tf.Session(config=tf.ConfigProto(gpu_options=gpu_options))\n"
   ]
  },
  {
   "cell_type": "code",
   "execution_count": 4,
   "metadata": {},
   "outputs": [],
   "source": [
    "\n",
    "'''\n",
    "   宣告並設定\n",
    "   batch_size：對總的樣本數進行分組，每組包含的樣本數量\n",
    "   epochs ：訓練次數\n",
    "   \n",
    "''' \n",
    "\n",
    "batch_size = 50\n",
    "epochs = 30\n",
    "\n",
    "#batch_size = 32\n",
    "num_classes = 10\n",
    "#epochs = 20\n",
    "data_augmentation = True\n",
    "num_predictions = 20\n",
    "save_dir = os.path.join(os.getcwd(), 'saved_models')\n",
    "model_name = 'keras_cifar10_trained_model.h5'\n"
   ]
  },
  {
   "cell_type": "code",
   "execution_count": 5,
   "metadata": {},
   "outputs": [
    {
     "name": "stdout",
     "output_type": "stream",
     "text": [
      "x_train shape: (50000, 32, 32, 3)\n",
      "50000 train samples\n",
      "10000 test samples\n"
     ]
    }
   ],
   "source": [
    "\n",
    "# The data, split between train and test sets:\n",
    "(x_train, y_train), (x_test, y_test) = cifar10.load_data()\n",
    "print('x_train shape:', x_train.shape)\n",
    "print(x_train.shape[0], 'train samples')\n",
    "print(x_test.shape[0], 'test samples')\n",
    "\n",
    "# Convert class vectors to binary class matrices.\n",
    "y_train = keras.utils.to_categorical(y_train, num_classes)\n",
    "y_test = keras.utils.to_categorical(y_test, num_classes)"
   ]
  },
  {
   "cell_type": "code",
   "execution_count": 6,
   "metadata": {},
   "outputs": [],
   "source": [
    "#    第一步：選擇模型, 順序模型是多個網絡層的線性堆疊\n",
    " \n",
    "model = Sequential()\n",
    "\n",
    "#   第二步：構建網絡層\n",
    "model.add(Conv2D(32, (3, 3), padding='same',\n",
    "                 input_shape=x_train.shape[1:]))\n",
    "model.add(Activation('relu'))\n",
    "model.add(Conv2D(32, (3, 3)))\n",
    "model.add(Activation('relu'))\n",
    "model.add(MaxPooling2D(pool_size=(2, 2)))\n",
    "model.add(Dropout(0.25))\n",
    "\n",
    "model.add(Conv2D(64, (3, 3), padding='same'))\n",
    "model.add(Activation('relu'))\n",
    "model.add(Conv2D(64, (3, 3)))\n",
    "model.add(Activation('relu'))\n",
    "model.add(MaxPooling2D(pool_size=(2, 2)))\n",
    "model.add(Dropout(0.25))\n",
    "\n",
    "model.add(Flatten())\n",
    "model.add(Dense(512))\n",
    "model.add(Activation('relu'))\n",
    "model.add(Dropout(0.5))\n",
    "\n",
    "model.add(Dense( 10)) # 輸出結果是10個類別，所以維度是10   \n",
    "model.add(Activation('softmax')) # 最後一層用softmax作為激活函數"
   ]
  },
  {
   "cell_type": "code",
   "execution_count": 7,
   "metadata": {},
   "outputs": [
    {
     "name": "stdout",
     "output_type": "stream",
     "text": [
      "Total Parameters：1250858\n"
     ]
    }
   ],
   "source": [
    "# 模型建立完成後，統計參數總量\n",
    "print(\"Total Parameters：%d\" % model.count_params())"
   ]
  },
  {
   "cell_type": "code",
   "execution_count": 8,
   "metadata": {},
   "outputs": [
    {
     "name": "stdout",
     "output_type": "stream",
     "text": [
      "Model: \"sequential_1\"\n",
      "_________________________________________________________________\n",
      "Layer (type)                 Output Shape              Param #   \n",
      "=================================================================\n",
      "conv2d_1 (Conv2D)            (None, 32, 32, 32)        896       \n",
      "_________________________________________________________________\n",
      "activation_1 (Activation)    (None, 32, 32, 32)        0         \n",
      "_________________________________________________________________\n",
      "conv2d_2 (Conv2D)            (None, 30, 30, 32)        9248      \n",
      "_________________________________________________________________\n",
      "activation_2 (Activation)    (None, 30, 30, 32)        0         \n",
      "_________________________________________________________________\n",
      "max_pooling2d_1 (MaxPooling2 (None, 15, 15, 32)        0         \n",
      "_________________________________________________________________\n",
      "dropout_1 (Dropout)          (None, 15, 15, 32)        0         \n",
      "_________________________________________________________________\n",
      "conv2d_3 (Conv2D)            (None, 15, 15, 64)        18496     \n",
      "_________________________________________________________________\n",
      "activation_3 (Activation)    (None, 15, 15, 64)        0         \n",
      "_________________________________________________________________\n",
      "conv2d_4 (Conv2D)            (None, 13, 13, 64)        36928     \n",
      "_________________________________________________________________\n",
      "activation_4 (Activation)    (None, 13, 13, 64)        0         \n",
      "_________________________________________________________________\n",
      "max_pooling2d_2 (MaxPooling2 (None, 6, 6, 64)          0         \n",
      "_________________________________________________________________\n",
      "dropout_2 (Dropout)          (None, 6, 6, 64)          0         \n",
      "_________________________________________________________________\n",
      "flatten_1 (Flatten)          (None, 2304)              0         \n",
      "_________________________________________________________________\n",
      "dense_1 (Dense)              (None, 512)               1180160   \n",
      "_________________________________________________________________\n",
      "activation_5 (Activation)    (None, 512)               0         \n",
      "_________________________________________________________________\n",
      "dropout_3 (Dropout)          (None, 512)               0         \n",
      "_________________________________________________________________\n",
      "dense_2 (Dense)              (None, 10)                5130      \n",
      "_________________________________________________________________\n",
      "activation_6 (Activation)    (None, 10)                0         \n",
      "=================================================================\n",
      "Total params: 1,250,858\n",
      "Trainable params: 1,250,858\n",
      "Non-trainable params: 0\n",
      "_________________________________________________________________\n"
     ]
    }
   ],
   "source": [
    "# 輸出模型摘要資訊\n",
    "model.summary()"
   ]
  },
  {
   "cell_type": "code",
   "execution_count": 11,
   "metadata": {},
   "outputs": [],
   "source": [
    "#第三步編譯\n",
    "'''\n",
    " SGD(隨機梯度下降) - Arguments\n",
    "lr: float >= 0. Learning rate.\n",
    "momentum: float >= 0. Parameter that accelerates SGD in the relevant direction and dampens oscillations.\n",
    "decay: float >= 0. Learning rate decay over each update.\n",
    "nesterov: boolean. Whether to apply Nesterov momentum.\n",
    "'''\n",
    "\n",
    "'''\n",
    "RMSprop- Arguments\n",
    "lr: float >= 0. Learning rate.\n",
    "rho: float >= 0.\n",
    "epsilon: float >= 0. Fuzz factor. If None, defaults to K.epsilon().\n",
    "decay: float >= 0. Learning rate decay over each update.\n",
    "'''\n",
    "\n",
    "'''\n",
    "Example:\n",
    "opt = optimizers.SGD(lr=0.01, decay=1e-6, momentum=0.9, nesterov=True)\n",
    "\n",
    "'''\n",
    "\n",
    "#model.compile(optimizer = opt, loss = 'categorical_crossentropy', metrics = ['accuracy'])\n",
    "model.compile(optimizer = 'adam', loss = 'categorical_crossentropy', metrics = ['accuracy'])"
   ]
  },
  {
   "cell_type": "code",
   "execution_count": 12,
   "metadata": {},
   "outputs": [],
   "source": [
    "# 資料正規化\n",
    "x_train = x_train.astype('float32')\n",
    "x_test = x_test.astype('float32')\n",
    "x_train /= 255\n",
    "x_test /= 255\n"
   ]
  },
  {
   "cell_type": "code",
   "execution_count": 13,
   "metadata": {},
   "outputs": [
    {
     "name": "stdout",
     "output_type": "stream",
     "text": [
      "Using real-time data augmentation.\n",
      "\n",
      "Train on 50000 samples, validate on 10000 samples\n",
      "Epoch 1/30\n",
      "50000/50000 [==============================] - 118s 2ms/step - loss: 1.5195 - accuracy: 0.4422 - val_loss: 1.1551 - val_accuracy: 0.5900\n",
      "Epoch 2/30\n",
      "50000/50000 [==============================] - 133s 3ms/step - loss: 1.1208 - accuracy: 0.6024 - val_loss: 0.9708 - val_accuracy: 0.6535\n",
      "Epoch 3/30\n",
      "50000/50000 [==============================] - 127s 3ms/step - loss: 0.9693 - accuracy: 0.6566 - val_loss: 0.8410 - val_accuracy: 0.7057\n",
      "Epoch 4/30\n",
      "50000/50000 [==============================] - 129s 3ms/step - loss: 0.8641 - accuracy: 0.6974 - val_loss: 0.7612 - val_accuracy: 0.7367\n",
      "Epoch 5/30\n",
      "50000/50000 [==============================] - 129s 3ms/step - loss: 0.7993 - accuracy: 0.7194 - val_loss: 0.7490 - val_accuracy: 0.7364\n",
      "Epoch 6/30\n",
      "50000/50000 [==============================] - 124s 2ms/step - loss: 0.7575 - accuracy: 0.7352 - val_loss: 0.7302 - val_accuracy: 0.7481\n",
      "Epoch 7/30\n",
      "50000/50000 [==============================] - 124s 2ms/step - loss: 0.7158 - accuracy: 0.7505 - val_loss: 0.6883 - val_accuracy: 0.7656\n",
      "Epoch 8/30\n",
      "50000/50000 [==============================] - 123s 2ms/step - loss: 0.6792 - accuracy: 0.7613 - val_loss: 0.6747 - val_accuracy: 0.7667\n",
      "Epoch 9/30\n",
      "50000/50000 [==============================] - 122s 2ms/step - loss: 0.6530 - accuracy: 0.7692 - val_loss: 0.6771 - val_accuracy: 0.7700\n",
      "Epoch 10/30\n",
      "50000/50000 [==============================] - 132s 3ms/step - loss: 0.6264 - accuracy: 0.7797 - val_loss: 0.6842 - val_accuracy: 0.7656\n",
      "Epoch 11/30\n",
      "50000/50000 [==============================] - 110s 2ms/step - loss: 0.6058 - accuracy: 0.7880 - val_loss: 0.6571 - val_accuracy: 0.7719\n",
      "Epoch 12/30\n",
      "50000/50000 [==============================] - 111s 2ms/step - loss: 0.5881 - accuracy: 0.7931 - val_loss: 0.6449 - val_accuracy: 0.7810\n",
      "Epoch 13/30\n",
      "50000/50000 [==============================] - 113s 2ms/step - loss: 0.5645 - accuracy: 0.8011 - val_loss: 0.6742 - val_accuracy: 0.7732\n",
      "Epoch 14/30\n",
      "50000/50000 [==============================] - 112s 2ms/step - loss: 0.5534 - accuracy: 0.8050 - val_loss: 0.6587 - val_accuracy: 0.7785\n",
      "Epoch 15/30\n",
      "50000/50000 [==============================] - 110s 2ms/step - loss: 0.5432 - accuracy: 0.8071 - val_loss: 0.6531 - val_accuracy: 0.7863\n",
      "Epoch 16/30\n",
      "50000/50000 [==============================] - 149s 3ms/step - loss: 0.5173 - accuracy: 0.8167 - val_loss: 0.6131 - val_accuracy: 0.7960\n",
      "Epoch 17/30\n",
      "50000/50000 [==============================] - 300s 6ms/step - loss: 0.5088 - accuracy: 0.8200 - val_loss: 0.6157 - val_accuracy: 0.7956\n",
      "Epoch 18/30\n",
      "50000/50000 [==============================] - 235s 5ms/step - loss: 0.4991 - accuracy: 0.8246 - val_loss: 0.6415 - val_accuracy: 0.7899\n",
      "Epoch 19/30\n",
      "50000/50000 [==============================] - 294s 6ms/step - loss: 0.4890 - accuracy: 0.8236 - val_loss: 0.6355 - val_accuracy: 0.7893\n",
      "Epoch 20/30\n",
      "50000/50000 [==============================] - 195s 4ms/step - loss: 0.4768 - accuracy: 0.8316 - val_loss: 0.6555 - val_accuracy: 0.7821\n",
      "Epoch 21/30\n",
      "50000/50000 [==============================] - 118s 2ms/step - loss: 0.4685 - accuracy: 0.8346 - val_loss: 0.6429 - val_accuracy: 0.7882\n",
      "Epoch 22/30\n",
      "50000/50000 [==============================] - 120s 2ms/step - loss: 0.4584 - accuracy: 0.8379 - val_loss: 0.6446 - val_accuracy: 0.7917\n",
      "Epoch 23/30\n",
      "50000/50000 [==============================] - 126s 3ms/step - loss: 0.4614 - accuracy: 0.8359 - val_loss: 0.6405 - val_accuracy: 0.7954\n",
      "Epoch 24/30\n",
      "50000/50000 [==============================] - 128s 3ms/step - loss: 0.4460 - accuracy: 0.8416 - val_loss: 0.6330 - val_accuracy: 0.7933\n",
      "Epoch 25/30\n",
      "50000/50000 [==============================] - 223s 4ms/step - loss: 0.4307 - accuracy: 0.8465 - val_loss: 0.6261 - val_accuracy: 0.7928\n",
      "Epoch 26/30\n",
      "50000/50000 [==============================] - 225s 4ms/step - loss: 0.4297 - accuracy: 0.8475 - val_loss: 0.6221 - val_accuracy: 0.7985\n",
      "Epoch 27/30\n",
      "50000/50000 [==============================] - 342s 7ms/step - loss: 0.4271 - accuracy: 0.8512 - val_loss: 0.6256 - val_accuracy: 0.7985\n",
      "Epoch 28/30\n",
      "50000/50000 [==============================] - 179s 4ms/step - loss: 0.4121 - accuracy: 0.8532 - val_loss: 0.6411 - val_accuracy: 0.7950\n",
      "Epoch 29/30\n",
      "50000/50000 [==============================] - 125s 3ms/step - loss: 0.4178 - accuracy: 0.8532 - val_loss: 0.6561 - val_accuracy: 0.7968\n",
      "Epoch 30/30\n",
      "50000/50000 [==============================] - 127s 3ms/step - loss: 0.4077 - accuracy: 0.8554 - val_loss: 0.6577 - val_accuracy: 0.7949\n"
     ]
    },
    {
     "data": {
      "text/plain": [
       "'\\n   第四步：訓練\\n   .fit的一些參數\\n   batch_size：對總的樣本數進行分組，每組包含的樣本數量\\n   epochs ：訓練次數\\n   shuffle：是否把數據隨機打亂之後再進行訓練\\n   validation_split：拿出百分之多少用來做交叉驗證\\n   verbose：屏顯模式 - 0：不輸出, 1：輸出進度, 2：輸出每次的訓練結果\\n'"
      ]
     },
     "execution_count": 13,
     "metadata": {},
     "output_type": "execute_result"
    }
   ],
   "source": [
    "# 是否要做資料處理\n",
    "if not data_augmentation:\n",
    "    print('Not using data augmentation.')\n",
    "    history=model.fit(x_train, y_train,\n",
    "              batch_size=batch_size,\n",
    "              epochs=epochs,\n",
    "              validation_data=(x_test, y_test),\n",
    "              shuffle=True)\n",
    "else:\n",
    "    print('Using real-time data augmentation.')\n",
    "    print('')\n",
    "        \n",
    "    # This will do preprocessing and realtime data augmentation:\n",
    "    datagen = ImageDataGenerator(\n",
    "        featurewise_center=False,  # set input mean to 0 over the dataset\n",
    "        samplewise_center=False,  # set each sample mean to 0\n",
    "        featurewise_std_normalization=False,  # divide inputs by std of the dataset\n",
    "        samplewise_std_normalization=False,  # divide each input by its std\n",
    "        zca_whitening=False,  # apply ZCA whitening\n",
    "        zca_epsilon=1e-06,  # epsilon for ZCA whitening\n",
    "        rotation_range=0,  # randomly rotate images in the range (degrees, 0 to 180)\n",
    "        # randomly shift images horizontally (fraction of total width)\n",
    "        width_shift_range=0.1,\n",
    "        # randomly shift images vertically (fraction of total height)\n",
    "        height_shift_range=0.1,\n",
    "        shear_range=0.,  # set range for random shear\n",
    "        zoom_range=0.,  # set range for random zoom\n",
    "        channel_shift_range=0.,  # set range for random channel shifts\n",
    "        # set mode for filling points outside the input boundaries\n",
    "        fill_mode='nearest',\n",
    "        cval=0.,  # value used for fill_mode = \"constant\"\n",
    "        horizontal_flip=True,  # randomly flip images\n",
    "        vertical_flip=False,  # randomly flip images\n",
    "        # set rescaling factor (applied before any other transformation)\n",
    "        rescale=None,\n",
    "        # set function that will be applied on each input\n",
    "        preprocessing_function=None,\n",
    "        # image data format, either \"channels_first\" or \"channels_last\"\n",
    "        data_format=None,\n",
    "        # fraction of images reserved for validation (strictly between 0 and 1)\n",
    "        validation_split=0.0)\n",
    "\n",
    "    # Compute quantities required for feature-wise normalization\n",
    "    # (std, mean, and principal components if ZCA whitening is applied).\n",
    "    datagen.fit(x_train)\n",
    "    history=model.fit(x_train, y_train,\n",
    "              batch_size=batch_size,\n",
    "              epochs=epochs,\n",
    "              validation_data=(x_test, y_test),\n",
    "              shuffle=True)   \n",
    "\n",
    "'''\n",
    "   第四步：訓練\n",
    "   .fit的一些參數\n",
    "   batch_size：對總的樣本數進行分組，每組包含的樣本數量\n",
    "   epochs ：訓練次數\n",
    "   shuffle：是否把數據隨機打亂之後再進行訓練\n",
    "   validation_split：拿出百分之多少用來做交叉驗證\n",
    "   verbose：屏顯模式 - 0：不輸出, 1：輸出進度, 2：輸出每次的訓練結果\n",
    "''' \n",
    "    "
   ]
  },
  {
   "cell_type": "code",
   "execution_count": 14,
   "metadata": {},
   "outputs": [
    {
     "name": "stdout",
     "output_type": "stream",
     "text": [
      "Saved trained model at C:\\Users\\Peng\\Documents\\Python\\第4屆機器學習百日馬拉松\\08.初探深度學習使用Keras_26_D066~091\\Day_076_優化器optimizers_20200605(五)\\saved_models\\keras_cifar10_trained_model.h5 \n",
      "10000/10000 [==============================] - 6s 579us/step\n",
      "Test loss: 0.6576611509799958\n",
      "Test accuracy: 0.7949000000953674\n"
     ]
    }
   ],
   "source": [
    "# Save model and weights\n",
    "if not os.path.isdir(save_dir):\n",
    "    os.makedirs(save_dir)\n",
    "model_path = os.path.join(save_dir, model_name)\n",
    "model.save(model_path)\n",
    "print('Saved trained model at %s ' % model_path)\n",
    "\n",
    "# Score trained model.\n",
    "scores = model.evaluate(x_test, y_test, verbose=1)\n",
    "print('Test loss:', scores[0])\n",
    "print('Test accuracy:', scores[1])"
   ]
  },
  {
   "cell_type": "code",
   "execution_count": 15,
   "metadata": {},
   "outputs": [
    {
     "name": "stdout",
     "output_type": "stream",
     "text": [
      " test set \n",
      "\n",
      " The test loss is %f  [0.6576611435413361, 0.7949000000953674]\n"
     ]
    }
   ],
   "source": [
    "#    第六步：輸出\n",
    "import numpy \n",
    "\n",
    "print ( \" test set \" )\n",
    "scores = model.evaluate(x_test,y_test,batch_size=200,verbose= 0)\n",
    "print ( \"\" )\n",
    "#print ( \" The test loss is %f \" % scores)\n",
    "print ( \" The test loss is %f \", scores)\n",
    "\n",
    "\n",
    "result = model.predict(x_test,batch_size=200,verbose= 0)\n",
    "\n",
    "result_max = numpy.argmax(result, axis = 1 )\n",
    "test_max = numpy.argmax(y_test, axis = 1 )\n",
    "\n",
    "result_bool = numpy.equal(result_max, test_max)\n",
    "true_num = numpy.sum(result_bool)\n"
   ]
  },
  {
   "cell_type": "code",
   "execution_count": 17,
   "metadata": {},
   "outputs": [
    {
     "data": {
      "image/png": "[encoded data removed]",
      "text/plain": [
       "<Figure size 432x288 with 1 Axes>"
      ]
     },
     "metadata": {
      "needs_background": "light"
     },
     "output_type": "display_data"
    },
    {
     "data": {
      "image/png": "[encoded data removed]",
      "text/plain": [
       "<Figure size 432x288 with 1 Axes>"
      ]
     },
     "metadata": {
      "needs_background": "light"
     },
     "output_type": "display_data"
    }
   ],
   "source": [
    "import matplotlib.pyplot as plt\n",
    "%matplotlib inline\n",
    "\n",
    "# Plot training & validation accuracy values\n",
    "plt.plot(history.history['accuracy'])\n",
    "plt.plot(history.history['val_accuracy'])\n",
    "plt.title('Model accuracy')\n",
    "plt.ylabel('Accuracy')\n",
    "plt.xlabel('Epoch')\n",
    "plt.legend(['Train', 'Valiidation'], loc='upper left')\n",
    "plt.show()\n",
    "\n",
    "# Plot training & validation loss values\n",
    "plt.plot(history.history['loss'])\n",
    "plt.plot(history.history['val_loss'])\n",
    "plt.title('Model loss')\n",
    "plt.ylabel('Loss')\n",
    "plt.xlabel('Epoch')\n",
    "plt.legend(['Train', 'Valiidation'], loc='upper left')\n",
    "plt.show()"
   ]
  },
  {
   "cell_type": "code",
   "execution_count": 18,
   "metadata": {},
   "outputs": [],
   "source": [
    "#第三步編譯\n",
    "'''\n",
    " SGD(隨機梯度下降) - Arguments\n",
    "lr: float >= 0. Learning rate.\n",
    "momentum: float >= 0. Parameter that accelerates SGD in the relevant direction and dampens oscillations.\n",
    "decay: float >= 0. Learning rate decay over each update.\n",
    "nesterov: boolean. Whether to apply Nesterov momentum.\n",
    "'''\n",
    "\n",
    "'''\n",
    "RMSprop- Arguments\n",
    "lr: float >= 0. Learning rate.\n",
    "rho: float >= 0.\n",
    "epsilon: float >= 0. Fuzz factor. If None, defaults to K.epsilon().\n",
    "decay: float >= 0. Learning rate decay over each update.\n",
    "'''\n",
    "\n",
    "'''\n",
    "Example:\n",
    "opt = optimizers.SGD(lr=0.01, decay=1e-6, momentum=0.9, nesterov=True)\n",
    "\n",
    "'''\n",
    "opt = optimizers.SGD(lr=0.01, decay=1e-6, momentum=0.9, nesterov=True)\n",
    "model.compile(optimizer = opt, loss = 'categorical_crossentropy', metrics = ['accuracy'])"
   ]
  },
  {
   "cell_type": "code",
   "execution_count": 19,
   "metadata": {},
   "outputs": [
    {
     "name": "stdout",
     "output_type": "stream",
     "text": [
      "Using real-time data augmentation.\n",
      "\n",
      "Train on 50000 samples, validate on 10000 samples\n",
      "Epoch 1/30\n",
      "50000/50000 [==============================] - 113s 2ms/step - loss: 38.5498 - accuracy: 0.0975 - val_loss: 2.3030 - val_accuracy: 0.1000\n",
      "Epoch 2/30\n",
      "50000/50000 [==============================] - 114s 2ms/step - loss: 2.3033 - accuracy: 0.0977 - val_loss: 2.3029 - val_accuracy: 0.1000\n",
      "Epoch 3/30\n",
      "50000/50000 [==============================] - 114s 2ms/step - loss: 2.3038 - accuracy: 0.1007 - val_loss: 2.3028 - val_accuracy: 0.1000\n",
      "Epoch 4/30\n",
      "50000/50000 [==============================] - 119s 2ms/step - loss: 2.3031 - accuracy: 0.0976 - val_loss: 2.3030 - val_accuracy: 0.1000\n",
      "Epoch 5/30\n",
      "50000/50000 [==============================] - 116s 2ms/step - loss: 2.3035 - accuracy: 0.0975 - val_loss: 2.3029 - val_accuracy: 0.1000\n",
      "Epoch 6/30\n",
      "50000/50000 [==============================] - 117s 2ms/step - loss: 2.3035 - accuracy: 0.1006 - val_loss: 2.3031 - val_accuracy: 0.1000\n",
      "Epoch 7/30\n",
      "50000/50000 [==============================] - 116s 2ms/step - loss: 2.3032 - accuracy: 0.0978 - val_loss: 2.3028 - val_accuracy: 0.1000\n",
      "Epoch 8/30\n",
      "50000/50000 [==============================] - 116s 2ms/step - loss: 2.3032 - accuracy: 0.0980 - val_loss: 2.3030 - val_accuracy: 0.1000\n",
      "Epoch 9/30\n",
      "50000/50000 [==============================] - 116s 2ms/step - loss: 2.3032 - accuracy: 0.0989 - val_loss: 2.3028 - val_accuracy: 0.1000\n",
      "Epoch 10/30\n",
      "50000/50000 [==============================] - 236s 5ms/step - loss: 2.3031 - accuracy: 0.1005 - val_loss: 2.3031 - val_accuracy: 0.1000\n",
      "Epoch 11/30\n",
      "50000/50000 [==============================] - 301s 6ms/step - loss: 2.3031 - accuracy: 0.0988 - val_loss: 2.3030 - val_accuracy: 0.1000\n",
      "Epoch 12/30\n",
      "50000/50000 [==============================] - 298s 6ms/step - loss: 2.3032 - accuracy: 0.0985 - val_loss: 2.3027 - val_accuracy: 0.1000\n",
      "Epoch 13/30\n",
      "50000/50000 [==============================] - 287s 6ms/step - loss: 2.3030 - accuracy: 0.1001 - val_loss: 2.3029 - val_accuracy: 0.1000\n",
      "Epoch 14/30\n",
      "50000/50000 [==============================] - 205s 4ms/step - loss: 2.3031 - accuracy: 0.1012 - val_loss: 2.3031 - val_accuracy: 0.1000\n",
      "Epoch 15/30\n",
      "50000/50000 [==============================] - 111s 2ms/step - loss: 2.3031 - accuracy: 0.0994 - val_loss: 2.3031 - val_accuracy: 0.1000\n",
      "Epoch 16/30\n",
      "50000/50000 [==============================] - 116s 2ms/step - loss: 2.3032 - accuracy: 0.0968 - val_loss: 2.3030 - val_accuracy: 0.1000\n",
      "Epoch 17/30\n",
      "50000/50000 [==============================] - 122s 2ms/step - loss: 2.3034 - accuracy: 0.0984 - val_loss: 2.3028 - val_accuracy: 0.1000\n",
      "Epoch 18/30\n",
      "50000/50000 [==============================] - 121s 2ms/step - loss: 2.3032 - accuracy: 0.0967 - val_loss: 2.3028 - val_accuracy: 0.1000\n",
      "Epoch 19/30\n",
      "50000/50000 [==============================] - 144s 3ms/step - loss: 2.3030 - accuracy: 0.1011 - val_loss: 2.3033 - val_accuracy: 0.1000\n",
      "Epoch 20/30\n",
      "50000/50000 [==============================] - 312s 6ms/step - loss: 2.3033 - accuracy: 0.0985 - val_loss: 2.3029 - val_accuracy: 0.1000\n",
      "Epoch 21/30\n",
      "50000/50000 [==============================] - 302s 6ms/step - loss: 2.3031 - accuracy: 0.0994 - val_loss: 2.3029 - val_accuracy: 0.1000\n",
      "Epoch 22/30\n",
      "50000/50000 [==============================] - 296s 6ms/step - loss: 2.3032 - accuracy: 0.0996 - val_loss: 2.3027 - val_accuracy: 0.1000\n",
      "Epoch 23/30\n",
      "50000/50000 [==============================] - 247s 5ms/step - loss: 2.3031 - accuracy: 0.0991 - val_loss: 2.3028 - val_accuracy: 0.1000\n",
      "Epoch 24/30\n",
      "50000/50000 [==============================] - 314s 6ms/step - loss: 2.3031 - accuracy: 0.0994 - val_loss: 2.3029 - val_accuracy: 0.1000\n",
      "Epoch 25/30\n",
      "50000/50000 [==============================] - 299s 6ms/step - loss: 2.3031 - accuracy: 0.0998 - val_loss: 2.3028 - val_accuracy: 0.1000\n",
      "Epoch 26/30\n",
      "50000/50000 [==============================] - 304s 6ms/step - loss: 2.3031 - accuracy: 0.0988 - val_loss: 2.3029 - val_accuracy: 0.1000\n",
      "Epoch 27/30\n",
      "50000/50000 [==============================] - 319s 6ms/step - loss: 2.3031 - accuracy: 0.1013 - val_loss: 2.3028 - val_accuracy: 0.1000\n",
      "Epoch 28/30\n",
      "50000/50000 [==============================] - 257s 5ms/step - loss: 2.3031 - accuracy: 0.0983 - val_loss: 2.3030 - val_accuracy: 0.1000\n",
      "Epoch 29/30\n",
      "50000/50000 [==============================] - 314s 6ms/step - loss: 2.3032 - accuracy: 0.0983 - val_loss: 2.3027 - val_accuracy: 0.1000\n",
      "Epoch 30/30\n",
      "50000/50000 [==============================] - 304s 6ms/step - loss: 2.3031 - accuracy: 0.0988 - val_loss: 2.3031 - val_accuracy: 0.1000\n"
     ]
    },
    {
     "data": {
      "text/plain": [
       "'\\n   第四步：訓練\\n   .fit的一些參數\\n   batch_size：對總的樣本數進行分組，每組包含的樣本數量\\n   epochs ：訓練次數\\n   shuffle：是否把數據隨機打亂之後再進行訓練\\n   validation_split：拿出百分之多少用來做交叉驗證\\n   verbose：屏顯模式 - 0：不輸出, 1：輸出進度, 2：輸出每次的訓練結果\\n'"
      ]
     },
     "execution_count": 19,
     "metadata": {},
     "output_type": "execute_result"
    }
   ],
   "source": [
    "# 資料正規化\n",
    "x_train = x_train.astype('float32')\n",
    "x_test = x_test.astype('float32')\n",
    "x_train /= 255\n",
    "x_test /= 255\n",
    "# 是否要做資料處理\n",
    "if not data_augmentation:\n",
    "    print('Not using data augmentation.')\n",
    "    history=model.fit(x_train, y_train,\n",
    "              batch_size=batch_size,\n",
    "              epochs=epochs,\n",
    "              validation_data=(x_test, y_test),\n",
    "              shuffle=True)\n",
    "else:\n",
    "    print('Using real-time data augmentation.')\n",
    "    print('')\n",
    "        \n",
    "    # This will do preprocessing and realtime data augmentation:\n",
    "    datagen = ImageDataGenerator(\n",
    "        featurewise_center=False,  # set input mean to 0 over the dataset\n",
    "        samplewise_center=False,  # set each sample mean to 0\n",
    "        featurewise_std_normalization=False,  # divide inputs by std of the dataset\n",
    "        samplewise_std_normalization=False,  # divide each input by its std\n",
    "        zca_whitening=False,  # apply ZCA whitening\n",
    "        zca_epsilon=1e-06,  # epsilon for ZCA whitening\n",
    "        rotation_range=0,  # randomly rotate images in the range (degrees, 0 to 180)\n",
    "        # randomly shift images horizontally (fraction of total width)\n",
    "        width_shift_range=0.1,\n",
    "        # randomly shift images vertically (fraction of total height)\n",
    "        height_shift_range=0.1,\n",
    "        shear_range=0.,  # set range for random shear\n",
    "        zoom_range=0.,  # set range for random zoom\n",
    "        channel_shift_range=0.,  # set range for random channel shifts\n",
    "        # set mode for filling points outside the input boundaries\n",
    "        fill_mode='nearest',\n",
    "        cval=0.,  # value used for fill_mode = \"constant\"\n",
    "        horizontal_flip=True,  # randomly flip images\n",
    "        vertical_flip=False,  # randomly flip images\n",
    "        # set rescaling factor (applied before any other transformation)\n",
    "        rescale=None,\n",
    "        # set function that will be applied on each input\n",
    "        preprocessing_function=None,\n",
    "        # image data format, either \"channels_first\" or \"channels_last\"\n",
    "        data_format=None,\n",
    "        # fraction of images reserved for validation (strictly between 0 and 1)\n",
    "        validation_split=0.0)\n",
    "\n",
    "    # Compute quantities required for feature-wise normalization\n",
    "    # (std, mean, and principal components if ZCA whitening is applied).\n",
    "    datagen.fit(x_train)\n",
    "    history=model.fit(x_train, y_train,\n",
    "              batch_size=batch_size,\n",
    "              epochs=epochs,\n",
    "              validation_data=(x_test, y_test),\n",
    "              shuffle=True)   \n",
    "\n",
    "'''\n",
    "   第四步：訓練\n",
    "   .fit的一些參數\n",
    "   batch_size：對總的樣本數進行分組，每組包含的樣本數量\n",
    "   epochs ：訓練次數\n",
    "   shuffle：是否把數據隨機打亂之後再進行訓練\n",
    "   validation_split：拿出百分之多少用來做交叉驗證\n",
    "   verbose：屏顯模式 - 0：不輸出, 1：輸出進度, 2：輸出每次的訓練結果\n",
    "''' \n",
    "    "
   ]
  },
  {
   "cell_type": "code",
   "execution_count": 20,
   "metadata": {},
   "outputs": [
    {
     "name": "stdout",
     "output_type": "stream",
     "text": [
      "Saved trained model at C:\\Users\\Peng\\Documents\\Python\\第4屆機器學習百日馬拉松\\08.初探深度學習使用Keras_26_D066~091\\Day_076_優化器optimizers_20200605(五)\\saved_models\\keras_cifar10_trained_model.h5 \n",
      "10000/10000 [==============================] - 5s 547us/step\n",
      "Test loss: 2.303069214630127\n",
      "Test accuracy: 0.10000000149011612\n"
     ]
    }
   ],
   "source": [
    "# Save model and weights\n",
    "if not os.path.isdir(save_dir):\n",
    "    os.makedirs(save_dir)\n",
    "model_path = os.path.join(save_dir, model_name)\n",
    "model.save(model_path)\n",
    "print('Saved trained model at %s ' % model_path)\n",
    "\n",
    "# Score trained model.\n",
    "scores = model.evaluate(x_test, y_test, verbose=1)\n",
    "print('Test loss:', scores[0])\n",
    "print('Test accuracy:', scores[1])"
   ]
  },
  {
   "cell_type": "code",
   "execution_count": 21,
   "metadata": {},
   "outputs": [
    {
     "name": "stdout",
     "output_type": "stream",
     "text": [
      " test set \n",
      "\n",
      " The test loss is %f  [2.303069233894348, 0.10000000149011612]\n"
     ]
    }
   ],
   "source": [
    "#    第六步：輸出\n",
    "import numpy \n",
    "\n",
    "print ( \" test set \" )\n",
    "scores = model.evaluate(x_test,y_test,batch_size=200,verbose= 0)\n",
    "print ( \"\" )\n",
    "#print ( \" The test loss is %f \" % scores)\n",
    "print ( \" The test loss is %f \", scores)\n",
    "\n",
    "\n",
    "result = model.predict(x_test,batch_size=200,verbose= 0)\n",
    "\n",
    "result_max = numpy.argmax(result, axis = 1 )\n",
    "test_max = numpy.argmax(y_test, axis = 1 )\n",
    "\n",
    "result_bool = numpy.equal(result_max, test_max)\n",
    "true_num = numpy.sum(result_bool)\n"
   ]
  },
  {
   "cell_type": "code",
   "execution_count": 22,
   "metadata": {},
   "outputs": [
    {
     "data": {
      "image/png": "[encoded data removed]",
      "text/plain": [
       "<Figure size 432x288 with 1 Axes>"
      ]
     },
     "metadata": {
      "needs_background": "light"
     },
     "output_type": "display_data"
    },
    {
     "data": {
      "image/png": "[encoded data removed]",
      "text/plain": [
       "<Figure size 432x288 with 1 Axes>"
      ]
     },
     "metadata": {
      "needs_background": "light"
     },
     "output_type": "display_data"
    }
   ],
   "source": [
    "import matplotlib.pyplot as plt\n",
    "%matplotlib inline\n",
    "\n",
    "# Plot training & validation accuracy values\n",
    "plt.plot(history.history['accuracy'])\n",
    "plt.plot(history.history['val_accuracy'])\n",
    "plt.title('Model accuracy')\n",
    "plt.ylabel('Accuracy')\n",
    "plt.xlabel('Epoch')\n",
    "plt.legend(['Train', 'Valiidation'], loc='upper left')\n",
    "plt.show()\n",
    "\n",
    "# Plot training & validation loss values\n",
    "plt.plot(history.history['loss'])\n",
    "plt.plot(history.history['val_loss'])\n",
    "plt.title('Model loss')\n",
    "plt.ylabel('Loss')\n",
    "plt.xlabel('Epoch')\n",
    "plt.legend(['Train', 'Valiidation'], loc='upper left')\n",
    "plt.show()"
   ]
  },
  {
   "cell_type": "code",
   "execution_count": 23,
   "metadata": {},
   "outputs": [],
   "source": [
    "#第三步編譯\n",
    "'''\n",
    " SGD(隨機梯度下降) - Arguments\n",
    "lr: float >= 0. Learning rate.\n",
    "momentum: float >= 0. Parameter that accelerates SGD in the relevant direction and dampens oscillations.\n",
    "decay: float >= 0. Learning rate decay over each update.\n",
    "nesterov: boolean. Whether to apply Nesterov momentum.\n",
    "'''\n",
    "\n",
    "'''\n",
    "RMSprop- Arguments\n",
    "lr: float >= 0. Learning rate.\n",
    "rho: float >= 0.\n",
    "epsilon: float >= 0. Fuzz factor. If None, defaults to K.epsilon().\n",
    "decay: float >= 0. Learning rate decay over each update.\n",
    "'''\n",
    "\n",
    "'''\n",
    "Example:\n",
    "opt = optimizers.SGD(lr=0.01, decay=1e-6, momentum=0.9, nesterov=True)\n",
    "\n",
    "'''\n",
    "opt = optimizers.RMSprop(lr=0.01, decay=1e-6, rho=0.9)\n",
    "model.compile(optimizer = opt, loss = 'categorical_crossentropy', metrics = ['accuracy'])"
   ]
  },
  {
   "cell_type": "code",
   "execution_count": 24,
   "metadata": {},
   "outputs": [
    {
     "name": "stdout",
     "output_type": "stream",
     "text": [
      "Using real-time data augmentation.\n",
      "\n",
      "Train on 50000 samples, validate on 10000 samples\n",
      "Epoch 1/30\n",
      "50000/50000 [==============================] - 111s 2ms/step - loss: 2.3036 - accuracy: 0.0989 - val_loss: 2.3035 - val_accuracy: 0.1000\n",
      "Epoch 2/30\n",
      "50000/50000 [==============================] - 113s 2ms/step - loss: 2.3036 - accuracy: 0.0992 - val_loss: 2.3041 - val_accuracy: 0.1000\n",
      "Epoch 3/30\n",
      "50000/50000 [==============================] - 118s 2ms/step - loss: 2.3038 - accuracy: 0.0966 - val_loss: 2.3032 - val_accuracy: 0.1000\n",
      "Epoch 4/30\n",
      "50000/50000 [==============================] - 124s 2ms/step - loss: 2.3037 - accuracy: 0.1005 - val_loss: 2.3035 - val_accuracy: 0.1000\n",
      "Epoch 5/30\n",
      "50000/50000 [==============================] - 122s 2ms/step - loss: 2.3055 - accuracy: 0.1004 - val_loss: 2.3033 - val_accuracy: 0.1000\n",
      "Epoch 6/30\n",
      "50000/50000 [==============================] - 122s 2ms/step - loss: 2.3038 - accuracy: 0.0998 - val_loss: 2.3032 - val_accuracy: 0.1000\n",
      "Epoch 7/30\n",
      "50000/50000 [==============================] - 123s 2ms/step - loss: 2.3036 - accuracy: 0.0993 - val_loss: 2.3029 - val_accuracy: 0.1000\n",
      "Epoch 8/30\n",
      "50000/50000 [==============================] - 123s 2ms/step - loss: 2.3034 - accuracy: 0.1026 - val_loss: 2.3033 - val_accuracy: 0.1000\n",
      "Epoch 9/30\n",
      "50000/50000 [==============================] - 121s 2ms/step - loss: 2.3038 - accuracy: 0.0992 - val_loss: 2.3033 - val_accuracy: 0.1000\n",
      "Epoch 10/30\n",
      "50000/50000 [==============================] - 218s 4ms/step - loss: 2.3037 - accuracy: 0.0994 - val_loss: 2.3035 - val_accuracy: 0.1000\n",
      "Epoch 11/30\n",
      "50000/50000 [==============================] - 319s 6ms/step - loss: 2.3039 - accuracy: 0.0972 - val_loss: 2.3038 - val_accuracy: 0.1000\n",
      "Epoch 12/30\n",
      "50000/50000 [==============================] - 280s 6ms/step - loss: 2.3038 - accuracy: 0.0970 - val_loss: 2.3029 - val_accuracy: 0.1000\n",
      "Epoch 13/30\n",
      "50000/50000 [==============================] - 263s 5ms/step - loss: 2.3039 - accuracy: 0.0969 - val_loss: 2.3032 - val_accuracy: 0.1000\n",
      "Epoch 14/30\n",
      "50000/50000 [==============================] - 333s 7ms/step - loss: 2.3038 - accuracy: 0.0991 - val_loss: 2.3036 - val_accuracy: 0.1000\n",
      "Epoch 15/30\n",
      "50000/50000 [==============================] - 305s 6ms/step - loss: 2.3038 - accuracy: 0.0983 - val_loss: 2.3036 - val_accuracy: 0.1000\n",
      "Epoch 16/30\n",
      "50000/50000 [==============================] - 302s 6ms/step - loss: 2.3038 - accuracy: 0.0984 - val_loss: 2.3031 - val_accuracy: 0.1000\n",
      "Epoch 17/30\n",
      "50000/50000 [==============================] - 297s 6ms/step - loss: 2.3036 - accuracy: 0.1008 - val_loss: 2.3033 - val_accuracy: 0.1000\n",
      "Epoch 18/30\n",
      "50000/50000 [==============================] - 297s 6ms/step - loss: 2.3037 - accuracy: 0.1010 - val_loss: 2.3035 - val_accuracy: 0.1000\n",
      "Epoch 19/30\n",
      "50000/50000 [==============================] - 249s 5ms/step - loss: 2.3036 - accuracy: 0.0988 - val_loss: 2.3052 - val_accuracy: 0.1000\n",
      "Epoch 20/30\n",
      "50000/50000 [==============================] - 125s 2ms/step - loss: 2.3038 - accuracy: 0.0973 - val_loss: 2.3034 - val_accuracy: 0.1000\n",
      "Epoch 21/30\n",
      "50000/50000 [==============================] - 126s 3ms/step - loss: 2.3037 - accuracy: 0.0980 - val_loss: 2.3032 - val_accuracy: 0.1000\n",
      "Epoch 22/30\n",
      "50000/50000 [==============================] - 127s 3ms/step - loss: 2.3037 - accuracy: 0.0956 - val_loss: 2.3033 - val_accuracy: 0.1000\n",
      "Epoch 23/30\n",
      "50000/50000 [==============================] - 124s 2ms/step - loss: 2.3037 - accuracy: 0.0988 - val_loss: 2.3032 - val_accuracy: 0.1000\n",
      "Epoch 24/30\n",
      "50000/50000 [==============================] - 166s 3ms/step - loss: 2.3034 - accuracy: 0.0992 - val_loss: 2.3038 - val_accuracy: 0.1000\n",
      "Epoch 25/30\n",
      "50000/50000 [==============================] - 326s 7ms/step - loss: 2.3038 - accuracy: 0.0999 - val_loss: 2.3037 - val_accuracy: 0.1000\n",
      "Epoch 26/30\n",
      "50000/50000 [==============================] - 313s 6ms/step - loss: 2.3036 - accuracy: 0.0995 - val_loss: 2.3042 - val_accuracy: 0.1000\n",
      "Epoch 27/30\n",
      "50000/50000 [==============================] - 306s 6ms/step - loss: 2.3039 - accuracy: 0.0970 - val_loss: 2.3034 - val_accuracy: 0.1000\n",
      "Epoch 28/30\n",
      "50000/50000 [==============================] - 246s 5ms/step - loss: 2.3036 - accuracy: 0.0993 - val_loss: 2.3031 - val_accuracy: 0.1000\n",
      "Epoch 29/30\n",
      "50000/50000 [==============================] - 222s 4ms/step - loss: 2.3037 - accuracy: 0.0988 - val_loss: 2.3038 - val_accuracy: 0.1000\n",
      "Epoch 30/30\n",
      "50000/50000 [==============================] - 277s 6ms/step - loss: 2.3037 - accuracy: 0.1001 - val_loss: 2.3031 - val_accuracy: 0.1000\n"
     ]
    },
    {
     "data": {
      "text/plain": [
       "'\\n   第四步：訓練\\n   .fit的一些參數\\n   batch_size：對總的樣本數進行分組，每組包含的樣本數量\\n   epochs ：訓練次數\\n   shuffle：是否把數據隨機打亂之後再進行訓練\\n   validation_split：拿出百分之多少用來做交叉驗證\\n   verbose：屏顯模式 - 0：不輸出, 1：輸出進度, 2：輸出每次的訓練結果\\n'"
      ]
     },
     "execution_count": 24,
     "metadata": {},
     "output_type": "execute_result"
    }
   ],
   "source": [
    "# 資料正規化\n",
    "x_train = x_train.astype('float32')\n",
    "x_test = x_test.astype('float32')\n",
    "x_train /= 255\n",
    "x_test /= 255\n",
    "# 是否要做資料處理\n",
    "if not data_augmentation:\n",
    "    print('Not using data augmentation.')\n",
    "    history=model.fit(x_train, y_train,\n",
    "              batch_size=batch_size,\n",
    "              epochs=epochs,\n",
    "              validation_data=(x_test, y_test),\n",
    "              shuffle=True)\n",
    "else:\n",
    "    print('Using real-time data augmentation.')\n",
    "    print('')\n",
    "        \n",
    "    # This will do preprocessing and realtime data augmentation:\n",
    "    datagen = ImageDataGenerator(\n",
    "        featurewise_center=False,  # set input mean to 0 over the dataset\n",
    "        samplewise_center=False,  # set each sample mean to 0\n",
    "        featurewise_std_normalization=False,  # divide inputs by std of the dataset\n",
    "        samplewise_std_normalization=False,  # divide each input by its std\n",
    "        zca_whitening=False,  # apply ZCA whitening\n",
    "        zca_epsilon=1e-06,  # epsilon for ZCA whitening\n",
    "        rotation_range=0,  # randomly rotate images in the range (degrees, 0 to 180)\n",
    "        # randomly shift images horizontally (fraction of total width)\n",
    "        width_shift_range=0.1,\n",
    "        # randomly shift images vertically (fraction of total height)\n",
    "        height_shift_range=0.1,\n",
    "        shear_range=0.,  # set range for random shear\n",
    "        zoom_range=0.,  # set range for random zoom\n",
    "        channel_shift_range=0.,  # set range for random channel shifts\n",
    "        # set mode for filling points outside the input boundaries\n",
    "        fill_mode='nearest',\n",
    "        cval=0.,  # value used for fill_mode = \"constant\"\n",
    "        horizontal_flip=True,  # randomly flip images\n",
    "        vertical_flip=False,  # randomly flip images\n",
    "        # set rescaling factor (applied before any other transformation)\n",
    "        rescale=None,\n",
    "        # set function that will be applied on each input\n",
    "        preprocessing_function=None,\n",
    "        # image data format, either \"channels_first\" or \"channels_last\"\n",
    "        data_format=None,\n",
    "        # fraction of images reserved for validation (strictly between 0 and 1)\n",
    "        validation_split=0.0)\n",
    "\n",
    "    # Compute quantities required for feature-wise normalization\n",
    "    # (std, mean, and principal components if ZCA whitening is applied).\n",
    "    datagen.fit(x_train)\n",
    "    history=model.fit(x_train, y_train,\n",
    "              batch_size=batch_size,\n",
    "              epochs=epochs,\n",
    "              validation_data=(x_test, y_test),\n",
    "              shuffle=True)   \n",
    "\n",
    "'''\n",
    "   第四步：訓練\n",
    "   .fit的一些參數\n",
    "   batch_size：對總的樣本數進行分組，每組包含的樣本數量\n",
    "   epochs ：訓練次數\n",
    "   shuffle：是否把數據隨機打亂之後再進行訓練\n",
    "   validation_split：拿出百分之多少用來做交叉驗證\n",
    "   verbose：屏顯模式 - 0：不輸出, 1：輸出進度, 2：輸出每次的訓練結果\n",
    "''' \n",
    "    "
   ]
  },
  {
   "cell_type": "code",
   "execution_count": 25,
   "metadata": {},
   "outputs": [
    {
     "name": "stdout",
     "output_type": "stream",
     "text": [
      "Saved trained model at C:\\Users\\Peng\\Documents\\Python\\第4屆機器學習百日馬拉松\\08.初探深度學習使用Keras_26_D066~091\\Day_076_優化器optimizers_20200605(五)\\saved_models\\keras_cifar10_trained_model.h5 \n",
      "10000/10000 [==============================] - 5s 519us/step\n",
      "Test loss: 2.303118421936035\n",
      "Test accuracy: 0.10000000149011612\n"
     ]
    }
   ],
   "source": [
    "# Save model and weights\n",
    "if not os.path.isdir(save_dir):\n",
    "    os.makedirs(save_dir)\n",
    "model_path = os.path.join(save_dir, model_name)\n",
    "model.save(model_path)\n",
    "print('Saved trained model at %s ' % model_path)\n",
    "\n",
    "# Score trained model.\n",
    "scores = model.evaluate(x_test, y_test, verbose=1)\n",
    "print('Test loss:', scores[0])\n",
    "print('Test accuracy:', scores[1])"
   ]
  },
  {
   "cell_type": "code",
   "execution_count": 26,
   "metadata": {},
   "outputs": [
    {
     "name": "stdout",
     "output_type": "stream",
     "text": [
      " test set \n",
      "\n",
      " The test loss is %f  [2.3031184339523314, 0.10000000149011612]\n"
     ]
    }
   ],
   "source": [
    "#    第六步：輸出\n",
    "import numpy \n",
    "\n",
    "print ( \" test set \" )\n",
    "scores = model.evaluate(x_test,y_test,batch_size=200,verbose= 0)\n",
    "print ( \"\" )\n",
    "#print ( \" The test loss is %f \" % scores)\n",
    "print ( \" The test loss is %f \", scores)\n",
    "\n",
    "\n",
    "result = model.predict(x_test,batch_size=200,verbose= 0)\n",
    "\n",
    "result_max = numpy.argmax(result, axis = 1 )\n",
    "test_max = numpy.argmax(y_test, axis = 1 )\n",
    "\n",
    "result_bool = numpy.equal(result_max, test_max)\n",
    "true_num = numpy.sum(result_bool)\n"
   ]
  },
  {
   "cell_type": "code",
   "execution_count": 27,
   "metadata": {},
   "outputs": [
    {
     "data": {
      "image/png": "[encoded data removed]",
      "text/plain": [
       "<Figure size 432x288 with 1 Axes>"
      ]
     },
     "metadata": {
      "needs_background": "light"
     },
     "output_type": "display_data"
    },
    {
     "data": {
      "image/png": "[encoded data removed]",
      "text/plain": [
       "<Figure size 432x288 with 1 Axes>"
      ]
     },
     "metadata": {
      "needs_background": "light"
     },
     "output_type": "display_data"
    }
   ],
   "source": [
    "import matplotlib.pyplot as plt\n",
    "%matplotlib inline\n",
    "\n",
    "# Plot training & validation accuracy values\n",
    "plt.plot(history.history['accuracy'])\n",
    "plt.plot(history.history['val_accuracy'])\n",
    "plt.title('Model accuracy')\n",
    "plt.ylabel('Accuracy')\n",
    "plt.xlabel('Epoch')\n",
    "plt.legend(['Train', 'Valiidation'], loc='upper left')\n",
    "plt.show()\n",
    "\n",
    "# Plot training & validation loss values\n",
    "plt.plot(history.history['loss'])\n",
    "plt.plot(history.history['val_loss'])\n",
    "plt.title('Model loss')\n",
    "plt.ylabel('Loss')\n",
    "plt.xlabel('Epoch')\n",
    "plt.legend(['Train', 'Valiidation'], loc='upper left')\n",
    "plt.show()"
   ]
  },
  {
   "cell_type": "code",
   "execution_count": null,
   "metadata": {},
   "outputs": [],
   "source": []
  }
 ],
 "metadata": {
  "kernelspec": {
   "display_name": "Python 3",
   "language": "python",
   "name": "python3"
  },
  "language_info": {
   "codemirror_mode": {
    "name": "ipython",
    "version": 3
   },
   "file_extension": ".py",
   "mimetype": "text/x-python",
   "name": "python",
   "nbconvert_exporter": "python",
   "pygments_lexer": "ipython3",
   "version": "3.7.6"
  }
 },
 "nbformat": 4,
 "nbformat_minor": 2
}
