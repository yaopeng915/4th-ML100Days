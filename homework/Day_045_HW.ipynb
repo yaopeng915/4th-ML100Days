{
 "cells": [
  {
   "cell_type": "markdown",
   "metadata": {},
   "source": [
    "本日作業請完整閱讀以下任一文獻即可：  \n",
    "  \n",
    "Kaggle 大師帶你了解梯度提升機原理 - 英文  \n",
    "\n",
    "完整的 Ensemble 概念 by 李宏毅教授  \n",
    "\n",
    "深入了解 Gradient-boosting - 英文  \n",
    "  \n",
    "完成閱讀後，請記得到下方按下完成作業。"
   ]
  }
 ],
 "metadata": {
  "kernelspec": {
   "display_name": "Python 3",
   "language": "python",
   "name": "python3"
  },
  "language_info": {
   "codemirror_mode": {
    "name": "ipython",
    "version": 3
   },
   "file_extension": ".py",
   "mimetype": "text/x-python",
   "name": "python",
   "nbconvert_exporter": "python",
   "pygments_lexer": "ipython3",
   "version": "3.7.4"
  }
 },
 "nbformat": 4,
 "nbformat_minor": 2
}
