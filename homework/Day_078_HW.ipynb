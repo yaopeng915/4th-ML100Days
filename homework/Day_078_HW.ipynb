{
 "cells": [
  {
   "cell_type": "markdown",
   "metadata": {},
   "source": [
    "## Work\n",
    "1. 請嘗試將 preproc_x 替換成以每筆資料的 min/max 進行標準化至 -1 ~ 1 間，再進行訓練\n",
    "2. 請嘗試將 mlp 疊更深 (e.g 5~10 層)，進行訓練後觀察 learning curve 的走勢\n",
    "3. (optional) 請改用 GPU 進行訓練 (如果你有 GPU 的話)，比較使用 CPU 與 GPU 的訓練速度"
   ]
  },
  {
   "cell_type": "code",
   "execution_count": 1,
   "metadata": {},
   "outputs": [],
   "source": [
    "## \n",
    "\"\"\"\n",
    "Your code here (optional)\n",
    "確認硬體資源\n",
    "\"\"\"\n",
    "#NO GPU"
   ]
  },
  {
   "cell_type": "code",
   "execution_count": 1,
   "metadata": {},
   "outputs": [
    {
     "name": "stderr",
     "output_type": "stream",
     "text": [
      "Using TensorFlow backend.\n"
     ]
    }
   ],
   "source": [
    "import os\n",
    "import keras\n",
    "\n",
    "# 請嘗試設定 GPU：os.environ\n",
    "# 不需使用 GPU, 將 GPU 設定為 \"無\"\n",
    "os.environ[\"CUDA_VISIBLE_DEVICES\"] = \"\""
   ]
  },
  {
   "cell_type": "code",
   "execution_count": 2,
   "metadata": {},
   "outputs": [],
   "source": [
    "train, test = keras.datasets.cifar10.load_data()"
   ]
  },
  {
   "cell_type": "code",
   "execution_count": 3,
   "metadata": {},
   "outputs": [],
   "source": [
    "## 資料前處理\n",
    "\"\"\"\n",
    "Your code here\n",
    "\"\"\"\n",
    "def preproc_x(x, flatten=True):\n",
    "    x = x / 255.\n",
    "    if flatten:\n",
    "        x = x.reshape((len(x), -1))\n",
    "    return x\n",
    "\n",
    "def preproc_y(y, num_classes=10):\n",
    "    if y.shape[-1] == 1:\n",
    "        y = keras.utils.to_categorical(y, num_classes)\n",
    "    return y    "
   ]
  },
  {
   "cell_type": "code",
   "execution_count": 4,
   "metadata": {},
   "outputs": [],
   "source": [
    "x_train, y_train = train\n",
    "x_test, y_test = test\n",
    "\n",
    "# Preproc the inputs\n",
    "x_train = preproc_x(x_train)\n",
    "x_test = preproc_x(x_test)\n",
    "\n",
    "# Preprc the outputs\n",
    "y_train = preproc_y(y_train)\n",
    "y_test = preproc_y(y_test)"
   ]
  },
  {
   "cell_type": "code",
   "execution_count": 5,
   "metadata": {},
   "outputs": [
    {
     "name": "stdout",
     "output_type": "stream",
     "text": [
      "Model: \"model_1\"\n",
      "_________________________________________________________________\n",
      "Layer (type)                 Output Shape              Param #   \n",
      "=================================================================\n",
      "input_1 (InputLayer)         (None, 3072)              0         \n",
      "_________________________________________________________________\n",
      "hidden_layer1 (Dense)        (None, 512)               1573376   \n",
      "_________________________________________________________________\n",
      "hidden_layer2 (Dense)        (None, 256)               131328    \n",
      "_________________________________________________________________\n",
      "hidden_layer3 (Dense)        (None, 128)               32896     \n",
      "_________________________________________________________________\n",
      "hidden_layer4 (Dense)        (None, 64)                8256      \n",
      "_________________________________________________________________\n",
      "hidden_layer5 (Dense)        (None, 32)                2080      \n",
      "_________________________________________________________________\n",
      "hidden_layer6 (Dense)        (None, 16)                528       \n",
      "_________________________________________________________________\n",
      "output (Dense)               (None, 10)                170       \n",
      "=================================================================\n",
      "Total params: 1,748,634\n",
      "Trainable params: 1,748,634\n",
      "Non-trainable params: 0\n",
      "_________________________________________________________________\n"
     ]
    }
   ],
   "source": [
    "\"\"\"Code Here\n",
    "建立你的神經網路\n",
    "\"\"\"\n",
    "def build_mlp(input_shape, output_units=10, num_neurons=[512, 256, 128,64,32,16]):\n",
    "    input_layer = keras.layers.Input(input_shape)\n",
    "    \n",
    "    for i, n_units in enumerate(num_neurons):\n",
    "        if i == 0:\n",
    "            x = keras.layers.Dense(units=n_units, activation=\"relu\", name=\"hidden_layer\"+str(i+1))(input_layer)\n",
    "        else:\n",
    "            x = keras.layers.Dense(units=n_units, activation=\"relu\", name=\"hidden_layer\"+str(i+1))(x)\n",
    "    \n",
    "    out = keras.layers.Dense(units=output_units, activation=\"softmax\", name=\"output\")(x)\n",
    "    \n",
    "    model = keras.models.Model(inputs=[input_layer], outputs=[out])\n",
    "    return model\n",
    "\n",
    "\n",
    "model = build_mlp(input_shape=x_train.shape[1:])\n",
    "model.summary()"
   ]
  },
  {
   "cell_type": "code",
   "execution_count": 6,
   "metadata": {},
   "outputs": [],
   "source": [
    "## 超參數設定\n",
    "LEARNING_RATE = 0.001\n",
    "EPOCHS = 100\n",
    "BATCH_SIZE = 256"
   ]
  },
  {
   "cell_type": "code",
   "execution_count": 7,
   "metadata": {},
   "outputs": [],
   "source": [
    "optimizer = keras.optimizers.Adam(lr=LEARNING_RATE)\n",
    "model.compile(loss=\"categorical_crossentropy\", metrics=[\"accuracy\"], optimizer=optimizer)"
   ]
  },
  {
   "cell_type": "code",
   "execution_count": 8,
   "metadata": {},
   "outputs": [
    {
     "name": "stdout",
     "output_type": "stream",
     "text": [
      "Train on 50000 samples, validate on 10000 samples\n",
      "Epoch 1/100\n",
      "50000/50000 [==============================] - 8s 154us/step - loss: 2.0597 - accuracy: 0.2222 - val_loss: 1.9209 - val_accuracy: 0.3005\n",
      "Epoch 2/100\n",
      "50000/50000 [==============================] - 7s 143us/step - loss: 1.8364 - accuracy: 0.3317 - val_loss: 1.7471 - val_accuracy: 0.3616\n",
      "Epoch 3/100\n",
      "50000/50000 [==============================] - 7s 142us/step - loss: 1.7323 - accuracy: 0.3746 - val_loss: 1.6794 - val_accuracy: 0.3930\n",
      "Epoch 4/100\n",
      "50000/50000 [==============================] - 7s 137us/step - loss: 1.6448 - accuracy: 0.4085 - val_loss: 1.6790 - val_accuracy: 0.4039\n",
      "Epoch 5/100\n",
      "50000/50000 [==============================] - 7s 146us/step - loss: 1.5925 - accuracy: 0.4293 - val_loss: 1.5631 - val_accuracy: 0.4364\n",
      "Epoch 6/100\n",
      "50000/50000 [==============================] - 7s 145us/step - loss: 1.5366 - accuracy: 0.4485 - val_loss: 1.5205 - val_accuracy: 0.4595\n",
      "Epoch 7/100\n",
      "50000/50000 [==============================] - 7s 144us/step - loss: 1.5118 - accuracy: 0.4582 - val_loss: 1.5066 - val_accuracy: 0.4628\n",
      "Epoch 8/100\n",
      "50000/50000 [==============================] - 7s 143us/step - loss: 1.4665 - accuracy: 0.4746 - val_loss: 1.5450 - val_accuracy: 0.4468\n",
      "Epoch 9/100\n",
      "50000/50000 [==============================] - 7s 145us/step - loss: 1.4445 - accuracy: 0.4828 - val_loss: 1.5337 - val_accuracy: 0.4529\n",
      "Epoch 10/100\n",
      "50000/50000 [==============================] - 7s 142us/step - loss: 1.4237 - accuracy: 0.4899 - val_loss: 1.4448 - val_accuracy: 0.4893\n",
      "Epoch 11/100\n",
      "50000/50000 [==============================] - 7s 135us/step - loss: 1.3907 - accuracy: 0.5030 - val_loss: 1.4568 - val_accuracy: 0.4846\n",
      "Epoch 12/100\n",
      "50000/50000 [==============================] - 7s 135us/step - loss: 1.3609 - accuracy: 0.5121 - val_loss: 1.4449 - val_accuracy: 0.4845\n",
      "Epoch 13/100\n",
      "50000/50000 [==============================] - 7s 132us/step - loss: 1.3392 - accuracy: 0.5209 - val_loss: 1.4037 - val_accuracy: 0.5040\n",
      "Epoch 14/100\n",
      "50000/50000 [==============================] - 7s 133us/step - loss: 1.3243 - accuracy: 0.5262 - val_loss: 1.4326 - val_accuracy: 0.4942\n",
      "Epoch 15/100\n",
      "50000/50000 [==============================] - 7s 136us/step - loss: 1.3001 - accuracy: 0.5348 - val_loss: 1.3856 - val_accuracy: 0.5125\n",
      "Epoch 16/100\n",
      "50000/50000 [==============================] - 7s 138us/step - loss: 1.2686 - accuracy: 0.5452 - val_loss: 1.4618 - val_accuracy: 0.4822\n",
      "Epoch 17/100\n",
      "50000/50000 [==============================] - 7s 133us/step - loss: 1.2579 - accuracy: 0.5504 - val_loss: 1.4145 - val_accuracy: 0.5029\n",
      "Epoch 18/100\n",
      "50000/50000 [==============================] - 7s 131us/step - loss: 1.2284 - accuracy: 0.5595 - val_loss: 1.4051 - val_accuracy: 0.5082\n",
      "Epoch 19/100\n",
      "50000/50000 [==============================] - 7s 131us/step - loss: 1.2076 - accuracy: 0.5708 - val_loss: 1.3877 - val_accuracy: 0.5167\n",
      "Epoch 20/100\n",
      "50000/50000 [==============================] - 6s 130us/step - loss: 1.1957 - accuracy: 0.5725 - val_loss: 1.4016 - val_accuracy: 0.4979\n",
      "Epoch 21/100\n",
      "50000/50000 [==============================] - 6s 129us/step - loss: 1.1778 - accuracy: 0.5780 - val_loss: 1.3898 - val_accuracy: 0.5234\n",
      "Epoch 22/100\n",
      "50000/50000 [==============================] - 7s 131us/step - loss: 1.1552 - accuracy: 0.5867 - val_loss: 1.3765 - val_accuracy: 0.5212\n",
      "Epoch 23/100\n",
      "50000/50000 [==============================] - 6s 130us/step - loss: 1.1262 - accuracy: 0.5972 - val_loss: 1.3878 - val_accuracy: 0.5162\n",
      "Epoch 24/100\n",
      "50000/50000 [==============================] - 6s 129us/step - loss: 1.1204 - accuracy: 0.5979 - val_loss: 1.3950 - val_accuracy: 0.5245\n",
      "Epoch 25/100\n",
      "50000/50000 [==============================] - 6s 128us/step - loss: 1.0951 - accuracy: 0.6059 - val_loss: 1.4021 - val_accuracy: 0.5256\n",
      "Epoch 26/100\n",
      "50000/50000 [==============================] - 6s 127us/step - loss: 1.0725 - accuracy: 0.6162 - val_loss: 1.4985 - val_accuracy: 0.4955\n",
      "Epoch 27/100\n",
      "50000/50000 [==============================] - 6s 129us/step - loss: 1.0660 - accuracy: 0.6159 - val_loss: 1.4014 - val_accuracy: 0.5202\n",
      "Epoch 28/100\n",
      "50000/50000 [==============================] - 6s 126us/step - loss: 1.0411 - accuracy: 0.6250 - val_loss: 1.4000 - val_accuracy: 0.5246\n",
      "Epoch 29/100\n",
      "50000/50000 [==============================] - 6s 130us/step - loss: 1.0244 - accuracy: 0.6336 - val_loss: 1.4359 - val_accuracy: 0.5184\n",
      "Epoch 30/100\n",
      "50000/50000 [==============================] - 6s 128us/step - loss: 1.0109 - accuracy: 0.6367 - val_loss: 1.4429 - val_accuracy: 0.5150\n",
      "Epoch 31/100\n",
      "50000/50000 [==============================] - 6s 128us/step - loss: 0.9892 - accuracy: 0.6447 - val_loss: 1.4188 - val_accuracy: 0.5252\n",
      "Epoch 32/100\n",
      "50000/50000 [==============================] - 7s 137us/step - loss: 0.9755 - accuracy: 0.6482 - val_loss: 1.4516 - val_accuracy: 0.5216\n",
      "Epoch 33/100\n",
      "50000/50000 [==============================] - 6s 129us/step - loss: 0.9532 - accuracy: 0.6556 - val_loss: 1.4408 - val_accuracy: 0.5298\n",
      "Epoch 34/100\n",
      "50000/50000 [==============================] - 7s 131us/step - loss: 0.9530 - accuracy: 0.6579 - val_loss: 1.4428 - val_accuracy: 0.5212\n",
      "Epoch 35/100\n",
      "50000/50000 [==============================] - 7s 130us/step - loss: 0.9217 - accuracy: 0.6690 - val_loss: 1.4866 - val_accuracy: 0.5171\n",
      "Epoch 36/100\n",
      "50000/50000 [==============================] - 7s 134us/step - loss: 0.9141 - accuracy: 0.6707 - val_loss: 1.4772 - val_accuracy: 0.5194\n",
      "Epoch 37/100\n",
      "50000/50000 [==============================] - 7s 137us/step - loss: 0.8958 - accuracy: 0.6767 - val_loss: 1.5198 - val_accuracy: 0.5224\n",
      "Epoch 38/100\n",
      "50000/50000 [==============================] - 7s 146us/step - loss: 0.8760 - accuracy: 0.6838 - val_loss: 1.5269 - val_accuracy: 0.5142\n",
      "Epoch 39/100\n",
      "50000/50000 [==============================] - 7s 144us/step - loss: 0.8596 - accuracy: 0.6919 - val_loss: 1.4859 - val_accuracy: 0.5211\n",
      "Epoch 40/100\n",
      "50000/50000 [==============================] - 7s 139us/step - loss: 0.8476 - accuracy: 0.6944 - val_loss: 1.5827 - val_accuracy: 0.5232\n",
      "Epoch 41/100\n",
      "50000/50000 [==============================] - 7s 145us/step - loss: 0.8337 - accuracy: 0.7006 - val_loss: 1.5763 - val_accuracy: 0.5165\n",
      "Epoch 42/100\n",
      "50000/50000 [==============================] - 7s 140us/step - loss: 0.8247 - accuracy: 0.7019 - val_loss: 1.6098 - val_accuracy: 0.5197\n",
      "Epoch 43/100\n",
      "50000/50000 [==============================] - 7s 142us/step - loss: 0.8061 - accuracy: 0.7099 - val_loss: 1.6163 - val_accuracy: 0.5142\n",
      "Epoch 44/100\n",
      "50000/50000 [==============================] - 7s 143us/step - loss: 0.7874 - accuracy: 0.7176 - val_loss: 1.6108 - val_accuracy: 0.5215\n",
      "Epoch 45/100\n",
      "50000/50000 [==============================] - 7s 141us/step - loss: 0.7804 - accuracy: 0.7180 - val_loss: 1.6183 - val_accuracy: 0.5204\n",
      "Epoch 46/100\n",
      "50000/50000 [==============================] - 7s 146us/step - loss: 0.7659 - accuracy: 0.7230 - val_loss: 1.6448 - val_accuracy: 0.5223\n",
      "Epoch 47/100\n",
      "50000/50000 [==============================] - 7s 144us/step - loss: 0.7495 - accuracy: 0.7284 - val_loss: 1.6535 - val_accuracy: 0.5200\n",
      "Epoch 48/100\n",
      "50000/50000 [==============================] - 7s 147us/step - loss: 0.7418 - accuracy: 0.7339 - val_loss: 1.6461 - val_accuracy: 0.5171\n",
      "Epoch 49/100\n",
      "50000/50000 [==============================] - 7s 143us/step - loss: 0.7321 - accuracy: 0.7350 - val_loss: 1.7445 - val_accuracy: 0.5135\n",
      "Epoch 50/100\n",
      "50000/50000 [==============================] - 7s 147us/step - loss: 0.7213 - accuracy: 0.7394 - val_loss: 1.7311 - val_accuracy: 0.5143\n",
      "Epoch 51/100\n",
      "50000/50000 [==============================] - 7s 147us/step - loss: 0.7051 - accuracy: 0.7457 - val_loss: 1.7407 - val_accuracy: 0.5141\n",
      "Epoch 52/100\n",
      "50000/50000 [==============================] - 7s 149us/step - loss: 0.6927 - accuracy: 0.7513 - val_loss: 1.8151 - val_accuracy: 0.5098\n",
      "Epoch 53/100\n",
      "50000/50000 [==============================] - 7s 145us/step - loss: 0.6862 - accuracy: 0.7534 - val_loss: 1.8614 - val_accuracy: 0.4987\n",
      "Epoch 54/100\n",
      "50000/50000 [==============================] - 7s 147us/step - loss: 0.6735 - accuracy: 0.7568 - val_loss: 1.8653 - val_accuracy: 0.5026\n",
      "Epoch 55/100\n"
     ]
    },
    {
     "name": "stdout",
     "output_type": "stream",
     "text": [
      "50000/50000 [==============================] - 7s 132us/step - loss: 0.6503 - accuracy: 0.7662 - val_loss: 1.8067 - val_accuracy: 0.5109\n",
      "Epoch 56/100\n",
      "50000/50000 [==============================] - 6s 128us/step - loss: 0.6602 - accuracy: 0.7615 - val_loss: 1.8424 - val_accuracy: 0.5084\n",
      "Epoch 57/100\n",
      "50000/50000 [==============================] - 7s 131us/step - loss: 0.6391 - accuracy: 0.7698 - val_loss: 1.8934 - val_accuracy: 0.5151\n",
      "Epoch 58/100\n",
      "50000/50000 [==============================] - 6s 129us/step - loss: 0.6348 - accuracy: 0.7694 - val_loss: 1.9014 - val_accuracy: 0.5015\n",
      "Epoch 59/100\n",
      "50000/50000 [==============================] - 6s 129us/step - loss: 0.6313 - accuracy: 0.7729 - val_loss: 1.9319 - val_accuracy: 0.5120\n",
      "Epoch 60/100\n",
      "50000/50000 [==============================] - 6s 130us/step - loss: 0.5944 - accuracy: 0.7871 - val_loss: 1.9695 - val_accuracy: 0.5097\n",
      "Epoch 61/100\n",
      "50000/50000 [==============================] - 6s 126us/step - loss: 0.5800 - accuracy: 0.7899 - val_loss: 2.0244 - val_accuracy: 0.5052\n",
      "Epoch 62/100\n",
      "50000/50000 [==============================] - 6s 129us/step - loss: 0.5837 - accuracy: 0.7900 - val_loss: 1.9447 - val_accuracy: 0.5125\n",
      "Epoch 63/100\n",
      "50000/50000 [==============================] - 6s 126us/step - loss: 0.5929 - accuracy: 0.7865 - val_loss: 2.0784 - val_accuracy: 0.5057\n",
      "Epoch 64/100\n",
      "50000/50000 [==============================] - 7s 131us/step - loss: 0.5816 - accuracy: 0.7912 - val_loss: 2.1324 - val_accuracy: 0.5097\n",
      "Epoch 65/100\n",
      "50000/50000 [==============================] - 6s 129us/step - loss: 0.5619 - accuracy: 0.7986 - val_loss: 2.0900 - val_accuracy: 0.5021\n",
      "Epoch 66/100\n",
      "50000/50000 [==============================] - 6s 127us/step - loss: 0.5490 - accuracy: 0.8010 - val_loss: 2.1194 - val_accuracy: 0.5089\n",
      "Epoch 67/100\n",
      "50000/50000 [==============================] - 7s 132us/step - loss: 0.5386 - accuracy: 0.8074 - val_loss: 2.1853 - val_accuracy: 0.5033\n",
      "Epoch 68/100\n",
      "50000/50000 [==============================] - 6s 130us/step - loss: 0.5273 - accuracy: 0.8102 - val_loss: 2.1613 - val_accuracy: 0.5050\n",
      "Epoch 69/100\n",
      "50000/50000 [==============================] - 7s 133us/step - loss: 0.5326 - accuracy: 0.8083 - val_loss: 2.2024 - val_accuracy: 0.5080\n",
      "Epoch 70/100\n",
      "50000/50000 [==============================] - 7s 131us/step - loss: 0.5183 - accuracy: 0.8130 - val_loss: 2.2603 - val_accuracy: 0.5002\n",
      "Epoch 71/100\n",
      "50000/50000 [==============================] - 7s 132us/step - loss: 0.5178 - accuracy: 0.8148 - val_loss: 2.2570 - val_accuracy: 0.5127\n",
      "Epoch 72/100\n",
      "50000/50000 [==============================] - 7s 135us/step - loss: 0.5161 - accuracy: 0.8159 - val_loss: 2.3062 - val_accuracy: 0.5096\n",
      "Epoch 73/100\n",
      "50000/50000 [==============================] - 7s 133us/step - loss: 0.4925 - accuracy: 0.8227 - val_loss: 2.3264 - val_accuracy: 0.5079\n",
      "Epoch 74/100\n",
      "50000/50000 [==============================] - 7s 137us/step - loss: 0.5017 - accuracy: 0.8187 - val_loss: 2.3729 - val_accuracy: 0.4991\n",
      "Epoch 75/100\n",
      "50000/50000 [==============================] - 7s 134us/step - loss: 0.4756 - accuracy: 0.8301 - val_loss: 2.3714 - val_accuracy: 0.4987\n",
      "Epoch 76/100\n",
      "50000/50000 [==============================] - 7s 137us/step - loss: 0.4862 - accuracy: 0.8253 - val_loss: 2.4300 - val_accuracy: 0.5053\n",
      "Epoch 77/100\n",
      "50000/50000 [==============================] - 7s 136us/step - loss: 0.4793 - accuracy: 0.8268 - val_loss: 2.4576 - val_accuracy: 0.4904\n",
      "Epoch 78/100\n",
      "50000/50000 [==============================] - 7s 135us/step - loss: 0.4615 - accuracy: 0.8340 - val_loss: 2.4162 - val_accuracy: 0.4996\n",
      "Epoch 79/100\n",
      "50000/50000 [==============================] - 7s 139us/step - loss: 0.4728 - accuracy: 0.8282 - val_loss: 2.4345 - val_accuracy: 0.4995\n",
      "Epoch 80/100\n",
      "50000/50000 [==============================] - 7s 137us/step - loss: 0.4529 - accuracy: 0.8379 - val_loss: 2.6119 - val_accuracy: 0.4979\n",
      "Epoch 81/100\n",
      "50000/50000 [==============================] - 7s 139us/step - loss: 0.4406 - accuracy: 0.8411 - val_loss: 2.5420 - val_accuracy: 0.5011\n",
      "Epoch 82/100\n",
      "50000/50000 [==============================] - 7s 134us/step - loss: 0.4430 - accuracy: 0.8401 - val_loss: 2.6077 - val_accuracy: 0.4978\n",
      "Epoch 83/100\n",
      "50000/50000 [==============================] - 7s 135us/step - loss: 0.4491 - accuracy: 0.8381 - val_loss: 2.6843 - val_accuracy: 0.5016\n",
      "Epoch 84/100\n",
      "50000/50000 [==============================] - 7s 134us/step - loss: 0.4227 - accuracy: 0.8492 - val_loss: 2.5897 - val_accuracy: 0.4941\n",
      "Epoch 85/100\n",
      "50000/50000 [==============================] - 7s 132us/step - loss: 0.4447 - accuracy: 0.8389 - val_loss: 2.6581 - val_accuracy: 0.4910\n",
      "Epoch 86/100\n",
      "50000/50000 [==============================] - 7s 135us/step - loss: 0.4330 - accuracy: 0.8440 - val_loss: 2.6586 - val_accuracy: 0.5021\n",
      "Epoch 87/100\n",
      "50000/50000 [==============================] - 7s 131us/step - loss: 0.4280 - accuracy: 0.8459 - val_loss: 2.6259 - val_accuracy: 0.4977\n",
      "Epoch 88/100\n",
      "50000/50000 [==============================] - 7s 135us/step - loss: 0.4260 - accuracy: 0.8482 - val_loss: 2.6880 - val_accuracy: 0.4981\n",
      "Epoch 89/100\n",
      "50000/50000 [==============================] - 7s 131us/step - loss: 0.3959 - accuracy: 0.8582 - val_loss: 2.6507 - val_accuracy: 0.5058\n",
      "Epoch 90/100\n",
      "50000/50000 [==============================] - 7s 132us/step - loss: 0.4031 - accuracy: 0.8552 - val_loss: 2.6615 - val_accuracy: 0.4932\n",
      "Epoch 91/100\n",
      "50000/50000 [==============================] - 7s 136us/step - loss: 0.3848 - accuracy: 0.8614 - val_loss: 2.7303 - val_accuracy: 0.5005\n",
      "Epoch 92/100\n",
      "50000/50000 [==============================] - 7s 132us/step - loss: 0.3925 - accuracy: 0.8596 - val_loss: 2.7326 - val_accuracy: 0.5062\n",
      "Epoch 93/100\n",
      "50000/50000 [==============================] - 7s 136us/step - loss: 0.3890 - accuracy: 0.8600 - val_loss: 2.7591 - val_accuracy: 0.4967\n",
      "Epoch 94/100\n",
      "50000/50000 [==============================] - 7s 134us/step - loss: 0.3909 - accuracy: 0.8593 - val_loss: 2.7504 - val_accuracy: 0.4981\n",
      "Epoch 95/100\n",
      "50000/50000 [==============================] - 7s 136us/step - loss: 0.3713 - accuracy: 0.8675 - val_loss: 2.7717 - val_accuracy: 0.4976\n",
      "Epoch 96/100\n",
      "50000/50000 [==============================] - 7s 135us/step - loss: 0.3888 - accuracy: 0.8610 - val_loss: 2.9038 - val_accuracy: 0.4950\n",
      "Epoch 97/100\n",
      "50000/50000 [==============================] - 7s 135us/step - loss: 0.4064 - accuracy: 0.8549 - val_loss: 2.8347 - val_accuracy: 0.4991\n",
      "Epoch 98/100\n",
      "50000/50000 [==============================] - 7s 144us/step - loss: 0.3821 - accuracy: 0.8631 - val_loss: 2.8445 - val_accuracy: 0.5052\n",
      "Epoch 99/100\n",
      "50000/50000 [==============================] - 7s 141us/step - loss: 0.3505 - accuracy: 0.8750 - val_loss: 2.9627 - val_accuracy: 0.4911\n",
      "Epoch 100/100\n",
      "50000/50000 [==============================] - 13s 258us/step - loss: 0.3621 - accuracy: 0.8695 - val_loss: 3.0098 - val_accuracy: 0.4881\n"
     ]
    },
    {
     "data": {
      "text/plain": [
       "<keras.callbacks.callbacks.History at 0x24b11dc85c8>"
      ]
     },
     "execution_count": 8,
     "metadata": {},
     "output_type": "execute_result"
    }
   ],
   "source": [
    "model.fit(x_train, y_train, \n",
    "          epochs=EPOCHS, \n",
    "          batch_size=BATCH_SIZE, \n",
    "          validation_data=(x_test, y_test), \n",
    "          shuffle=True)"
   ]
  },
  {
   "cell_type": "code",
   "execution_count": 9,
   "metadata": {},
   "outputs": [
    {
     "data": {
      "image/png": "[encoded data removed]",
      "text/plain": [
       "<Figure size 432x288 with 1 Axes>"
      ]
     },
     "metadata": {
      "needs_background": "light"
     },
     "output_type": "display_data"
    },
    {
     "data": {
      "image/png": "[encoded data removed]",
      "text/plain": [
       "<Figure size 432x288 with 1 Axes>"
      ]
     },
     "metadata": {
      "needs_background": "light"
     },
     "output_type": "display_data"
    }
   ],
   "source": [
    "import matplotlib.pyplot as plt\n",
    "\n",
    "\n",
    "train_loss = model.history.history[\"loss\"]\n",
    "valid_loss = model.history.history[\"val_loss\"]\n",
    "\n",
    "train_acc = model.history.history[\"accuracy\"]\n",
    "valid_acc = model.history.history[\"val_accuracy\"]\n",
    "\n",
    "plt.plot(range(len(train_loss)), train_loss, label=\"train loss\")\n",
    "plt.plot(range(len(valid_loss)), valid_loss, label=\"valid loss\")\n",
    "plt.legend()\n",
    "plt.title(\"Loss\")\n",
    "plt.show()\n",
    "\n",
    "plt.plot(range(len(train_acc)), train_acc, label=\"train accuracy\")\n",
    "plt.plot(range(len(valid_acc)), valid_acc, label=\"valid accuracy\")\n",
    "plt.legend()\n",
    "plt.title(\"Accuracy\")\n",
    "plt.show()"
   ]
  },
  {
   "cell_type": "code",
   "execution_count": null,
   "metadata": {},
   "outputs": [],
   "source": []
  }
 ],
 "metadata": {
  "kernelspec": {
   "display_name": "Python 3",
   "language": "python",
   "name": "python3"
  },
  "language_info": {
   "codemirror_mode": {
    "name": "ipython",
    "version": 3
   },
   "file_extension": ".py",
   "mimetype": "text/x-python",
   "name": "python",
   "nbconvert_exporter": "python",
   "pygments_lexer": "ipython3",
   "version": "3.7.6"
  }
 },
 "nbformat": 4,
 "nbformat_minor": 2
}
